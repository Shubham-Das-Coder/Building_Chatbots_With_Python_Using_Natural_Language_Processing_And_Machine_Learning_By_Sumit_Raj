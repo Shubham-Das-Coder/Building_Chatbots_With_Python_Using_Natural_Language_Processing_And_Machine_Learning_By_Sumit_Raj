{
  "nbformat": 4,
  "nbformat_minor": 0,
  "metadata": {
    "colab": {
      "name": "POS_Tagging.ipynb",
      "provenance": [],
      "authorship_tag": "ABX9TyO1JveSoJbEyD6TKRN4Q2qR",
      "include_colab_link": true
    },
    "kernelspec": {
      "name": "python3",
      "display_name": "Python 3"
    },
    "language_info": {
      "name": "python"
    }
  },
  "cells": [
    {
      "cell_type": "markdown",
      "metadata": {
        "id": "view-in-github",
        "colab_type": "text"
      },
      "source": [
        "<a href=\"https://colab.research.google.com/github/Shubham-Das-Coder/Building_Chatbots_With_Python_Using_Natural_Language_Processing_And_Machine_Learning_By_Sumit_Raj/blob/main/POS_Tagging.ipynb\" target=\"_parent\"><img src=\"https://colab.research.google.com/assets/colab-badge.svg\" alt=\"Open In Colab\"/></a>"
      ]
    },
    {
      "cell_type": "code",
      "source": [
        "import spacy"
      ],
      "metadata": {
        "id": "K34ATKRWQJC5"
      },
      "execution_count": 1,
      "outputs": []
    },
    {
      "cell_type": "code",
      "execution_count": 2,
      "metadata": {
        "colab": {
          "base_uri": "https://localhost:8080/"
        },
        "id": "jaJqz1fFMBZY",
        "outputId": "98302505-d72b-4a2b-d526-bf88e7f2f0b7"
      },
      "outputs": [
        {
          "output_type": "stream",
          "name": "stdout",
          "text": [
            "I PRON\n",
            "am AUX\n",
            "learning VERB\n",
            "how ADV\n",
            "to PART\n",
            "build VERB\n",
            "chatbots NOUN\n"
          ]
        }
      ],
      "source": [
        "nlp = spacy.load('en') #Loads the spacy en model into a python object\n",
        "doc = nlp(u'I am learning how to build chatbots') #Creates a doc object\n",
        "for token in doc:\n",
        "    print(token.text, token.pos_) #prints the text and POS"
      ]
    },
    {
      "cell_type": "code",
      "source": [
        "doc = nlp(u'I am going to London next week for a meeting.')\n",
        "for token in doc:\n",
        "    print(token.text, token.pos_)   "
      ],
      "metadata": {
        "colab": {
          "base_uri": "https://localhost:8080/"
        },
        "id": "a0oHjeU9MLxA",
        "outputId": "3844fc1b-3804-4dec-99a6-a2601c441347"
      },
      "execution_count": 3,
      "outputs": [
        {
          "output_type": "stream",
          "name": "stdout",
          "text": [
            "I PRON\n",
            "am AUX\n",
            "going VERB\n",
            "to ADP\n",
            "London PROPN\n",
            "next ADJ\n",
            "week NOUN\n",
            "for ADP\n",
            "a DET\n",
            "meeting NOUN\n",
            ". PUNCT\n"
          ]
        }
      ]
    },
    {
      "cell_type": "code",
      "source": [
        "doc = nlp(u'Google release \"Move Mirror\" AI experiment that matches your pose from 80,000 images')\n",
        "for token in doc:\n",
        "    print(token.text, token.lemma_, token.pos_, token.tag_, token.dep_, token.shape_, token.is_alpha, token.is_stop)"
      ],
      "metadata": {
        "colab": {
          "base_uri": "https://localhost:8080/"
        },
        "id": "npxmlPDbMg-x",
        "outputId": "cd736cac-5832-4236-af2f-523729c8bf60"
      },
      "execution_count": 4,
      "outputs": [
        {
          "output_type": "stream",
          "name": "stdout",
          "text": [
            "Google Google PROPN NNP compound Xxxxx True False\n",
            "release release NOUN NN ROOT xxxx True False\n",
            "\" \" PUNCT `` punct \" False False\n",
            "Move Move PROPN NNP nmod Xxxx True True\n",
            "Mirror Mirror PROPN NNP nmod Xxxxx True False\n",
            "\" \" PUNCT '' punct \" False False\n",
            "AI ai NOUN NN compound XX True False\n",
            "experiment experiment NOUN NN appos xxxx True False\n",
            "that that DET WDT nsubj xxxx True True\n",
            "matches match VERB VBZ relcl xxxx True False\n",
            "your -PRON- DET PRP$ poss xxxx True True\n",
            "pose pose NOUN NN dobj xxxx True False\n",
            "from from ADP IN prep xxxx True True\n",
            "80,000 80,000 NUM CD nummod dd,ddd False False\n",
            "images image NOUN NNS pobj xxxx True False\n"
          ]
        }
      ]
    },
    {
      "cell_type": "code",
      "source": [
        "doc = nlp(u'I am learning how to build chatbots')\n",
        "for token in doc:\n",
        "    print(token.text, token.lemma_, token.pos_, token.tag_, token.dep_, token.shape_, token.is_alpha, token.is_stop)"
      ],
      "metadata": {
        "colab": {
          "base_uri": "https://localhost:8080/"
        },
        "id": "wPErQGYoMq12",
        "outputId": "6f61b0a0-34f7-491b-aa00-c5bc4c928f07"
      },
      "execution_count": 5,
      "outputs": [
        {
          "output_type": "stream",
          "name": "stdout",
          "text": [
            "I -PRON- PRON PRP nsubj X True True\n",
            "am be AUX VBP aux xx True True\n",
            "learning learn VERB VBG ROOT xxxx True False\n",
            "how how ADV WRB advmod xxx True True\n",
            "to to PART TO aux xx True True\n",
            "build build VERB VB xcomp xxxx True False\n",
            "chatbots chatbot NOUN NNS dobj xxxx True False\n"
          ]
        }
      ]
    }
  ]
}